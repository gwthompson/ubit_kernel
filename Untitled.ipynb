{
 "cells": [
  {
   "cell_type": "code",
   "execution_count": 1,
   "metadata": {
    "collapsed": false
   },
   "outputs": [],
   "source": [
    "display.scroll('Test')"
   ]
  },
  {
   "cell_type": "code",
   "execution_count": 2,
   "metadata": {
    "collapsed": false
   },
   "outputs": [
    {
     "name": "stdout",
     "output_type": "stream",
     "text": [
      "Hello\r\n"
     ]
    }
   ],
   "source": [
    "print('Hello')"
   ]
  },
  {
   "cell_type": "code",
   "execution_count": 3,
   "metadata": {
    "collapsed": false
   },
   "outputs": [
    {
     "name": "stdout",
     "output_type": "stream",
     "text": [
      "['pin15', 'pin2', 'pin0', 'pin1', 'pin3', 'pin6', 'pin4', 'i2c', 'pin5', 'pin7', 'pin8', '__name__', 'Image', 'pin9', 'pin14', 'pin16', 'reset', 'pin19', 'temperature', 'sleep', 'pin20', 'love', 'button_a', 'button_b', 'a', 'running_time', 'accelerometer', 'display', 'uart', 'this', 'spi', 'panic', 'pin13', 'pin12', 'pin11', 'pin10', 'compass']\r\n"
     ]
    }
   ],
   "source": [
    "print(dir())"
   ]
  },
  {
   "cell_type": "code",
   "execution_count": 4,
   "metadata": {
    "collapsed": false
   },
   "outputs": [],
   "source": [
    "display.show(Image.DIAMOND)"
   ]
  },
  {
   "cell_type": "code",
   "execution_count": 5,
   "metadata": {
    "collapsed": false
   },
   "outputs": [
    {
     "name": "stderr",
     "output_type": "stream",
     "text": [
      "Traceback (most recent call last):\r\n",
      "  File \"<stdin>\", line 1, in <module>\r\n",
      "NameError: name 'awqew' is not defined\r\n"
     ]
    }
   ],
   "source": [
    "awqew"
   ]
  }
 ],
 "metadata": {
  "kernelspec": {
   "display_name": "micro:bit",
   "language": "python",
   "name": "ubit"
  },
  "language_info": {
   "codemirror_mode": {
    "name": "python",
    "version": 3
   },
   "file_extension": ".py",
   "mimetype": "text/x-python",
   "name": "python",
   "pygments_lexer": "python3",
   "version": "3"
  }
 },
 "nbformat": 4,
 "nbformat_minor": 0
}
