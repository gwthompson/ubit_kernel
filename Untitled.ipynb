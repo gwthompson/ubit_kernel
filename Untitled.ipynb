{
 "cells": [
  {
   "cell_type": "code",
   "execution_count": 5,
   "metadata": {
    "collapsed": false
   },
   "outputs": [
    {
     "name": "stdout",
     "output_type": "stream",
     "text": [
      ">>> p.o't\n",
      "y.scroll('Test')\r\n"
     ]
    }
   ],
   "source": [
    "display.scroll('Test')"
   ]
  },
  {
   "cell_type": "code",
   "execution_count": 2,
   "metadata": {
    "collapsed": false
   },
   "outputs": [
    {
     "name": "stdout",
     "output_type": "stream",
     "text": [
      ">>> nnrint('Hello')\r\n",
      "Hello\r\n",
      ">>> "
     ]
    }
   ],
   "source": [
    "print('Hello')"
   ]
  },
  {
   "cell_type": "code",
   "execution_count": 3,
   "metadata": {
    "collapsed": false
   },
   "outputs": [
    {
     "name": "stdout",
     "output_type": "stream",
     "text": [
      "((ir()\r\n",
      "['pin15', 'pin2', 'pin0', 'pin1', 'pin3', 'pin6', 'pin4', 'i2c', 'pin5', 'pin7', 'pin8', '__name__', 'Image', 'pin9', 'pin14', 'pin16', 'reset', 'pin19', 'temperature', 'sleep', 'pin20', 'button_a', 'button_b', 'running_time', 'accelerometer', 'display', 'uart', 'spi', 'panic', 'pin13', 'pin12', 'pin11', 'pin10', 'compass']\r\n",
      ">>> "
     ]
    }
   ],
   "source": [
    "dir()"
   ]
  },
  {
   "cell_type": "code",
   "execution_count": null,
   "metadata": {
    "collapsed": true
   },
   "outputs": [],
   "source": []
  }
 ],
 "metadata": {
  "kernelspec": {
   "display_name": "micro:bit",
   "language": "python",
   "name": "ubit"
  },
  "language_info": {
   "codemirror_mode": {
    "name": "python",
    "version": 3
   },
   "file_extension": ".py",
   "mimetype": "text/x-python",
   "name": "python",
   "pygments_lexer": "python3",
   "version": "3"
  }
 },
 "nbformat": 4,
 "nbformat_minor": 0
}
